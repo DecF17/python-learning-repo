{
 "cells": [
  {
   "cell_type": "code",
   "execution_count": 2,
   "metadata": {},
   "outputs": [],
   "source": [
    "import pandas as pd\n",
    "\n",
    "filename_1 = 'https://raw.githubusercontent.com/data-to-insight/ERN-sessions/main/data/ChildCharacteristics.csv'\n",
    "filename_2 = 'https://raw.githubusercontent.com/data-to-insight/ERN-sessions/main/data/ChildIdentifiers.csv'\n",
    "\n",
    "filepaths = [filename_1, filename_2]"
   ]
  },
  {
   "cell_type": "code",
   "execution_count": 3,
   "metadata": {},
   "outputs": [
    {
     "data": {
      "text/html": [
       "<div>\n",
       "<style scoped>\n",
       "    .dataframe tbody tr th:only-of-type {\n",
       "        vertical-align: middle;\n",
       "    }\n",
       "\n",
       "    .dataframe tbody tr th {\n",
       "        vertical-align: top;\n",
       "    }\n",
       "\n",
       "    .dataframe thead th {\n",
       "        text-align: right;\n",
       "    }\n",
       "</style>\n",
       "<table border=\"1\" class=\"dataframe\">\n",
       "  <thead>\n",
       "    <tr style=\"text-align: right;\">\n",
       "      <th></th>\n",
       "      <th>ChildId</th>\n",
       "      <th>Age first contact</th>\n",
       "      <th>Gender</th>\n",
       "      <th>Birthday</th>\n",
       "      <th>Age</th>\n",
       "      <th>CP Plan?</th>\n",
       "    </tr>\n",
       "  </thead>\n",
       "  <tbody>\n",
       "    <tr>\n",
       "      <th>0</th>\n",
       "      <td>id1</td>\n",
       "      <td>6</td>\n",
       "      <td>M</td>\n",
       "      <td>2002-01-01</td>\n",
       "      <td>5</td>\n",
       "      <td>Y</td>\n",
       "    </tr>\n",
       "    <tr>\n",
       "      <th>1</th>\n",
       "      <td>id2</td>\n",
       "      <td>12</td>\n",
       "      <td>m</td>\n",
       "      <td>2003-02-02</td>\n",
       "      <td>12</td>\n",
       "      <td>n</td>\n",
       "    </tr>\n",
       "    <tr>\n",
       "      <th>2</th>\n",
       "      <td>id3</td>\n",
       "      <td>11</td>\n",
       "      <td>F</td>\n",
       "      <td>NaT</td>\n",
       "      <td>11</td>\n",
       "      <td>N</td>\n",
       "    </tr>\n",
       "    <tr>\n",
       "      <th>3</th>\n",
       "      <td>id4</td>\n",
       "      <td>1</td>\n",
       "      <td></td>\n",
       "      <td>2023-03-03</td>\n",
       "      <td>6</td>\n",
       "      <td>No</td>\n",
       "    </tr>\n",
       "    <tr>\n",
       "      <th>4</th>\n",
       "      <td>id5</td>\n",
       "      <td>19</td>\n",
       "      <td>F</td>\n",
       "      <td>2012-01-06</td>\n",
       "      <td>2</td>\n",
       "      <td>yES</td>\n",
       "    </tr>\n",
       "  </tbody>\n",
       "</table>\n",
       "</div>"
      ],
      "text/plain": [
       "  ChildId  Age first contact Gender   Birthday  Age CP Plan?\n",
       "0     id1                  6      M 2002-01-01    5        Y\n",
       "1     id2                 12      m 2003-02-02   12        n\n",
       "2     id3                 11      F        NaT   11        N\n",
       "3     id4                  1        2023-03-03    6       No\n",
       "4     id5                 19      F 2012-01-06    2      yES"
      ]
     },
     "execution_count": 3,
     "metadata": {},
     "output_type": "execute_result"
    }
   ],
   "source": [
    "df = pd.DataFrame({'ChildId':['id1', 'id2', 'id3', 'id4', 'id5'],\n",
    "                   'Age first contact':[6,12,11,1,19],\n",
    "                   'Gender':['M','m', 'F', '', 'F' ],\n",
    "                   'Birthday':['01/01/2002', '02/02/2003', pd.NA, '03/03/2023', '06/01/2012'],\n",
    "                   'Age':[5,12,11,6,2],\n",
    "                   'CP Plan?':['Y', 'n', 'N', 'No', 'yES'],})\n",
    "df['Birthday'] = pd.to_datetime(df['Birthday'], dayfirst=True)\n",
    "df"
   ]
  },
  {
   "cell_type": "code",
   "execution_count": 6,
   "metadata": {},
   "outputs": [
    {
     "name": "stdout",
     "output_type": "stream",
     "text": [
      "0    False\n",
      "1     True\n",
      "2     True\n",
      "3    False\n",
      "4    False\n",
      "Name: Age, dtype: bool\n",
      "  ChildId  Age first contact Gender   Birthday  Age CP Plan?\n",
      "1     id2                 12      m 2003-02-02   12        n\n",
      "2     id3                 11      F        NaT   11        N\n"
     ]
    }
   ],
   "source": [
    "condition = df['Age'] >= 10\n",
    "\n",
    "print(condition)\n",
    "\n",
    "over_10 = df[condition].copy()\n",
    "\n",
    "print(over_10)"
   ]
  },
  {
   "cell_type": "code",
   "execution_count": 8,
   "metadata": {},
   "outputs": [
    {
     "name": "stdout",
     "output_type": "stream",
     "text": [
      "  ChildId  Age first contact Gender   Birthday  Age CP Plan?\n",
      "1     id2                 12      m 2003-02-02   12        n\n",
      "2     id3                 11      F        NaT   11        N\n",
      "4     id5                 19      F 2012-01-06    2      yES\n"
     ]
    }
   ],
   "source": [
    "# new df slice with only rows where the age of first contact column is greater than 9\n",
    "\n",
    "\n",
    "new_condition = df['Age first contact'] >= 9 \n",
    "\n",
    "contact_after_9 = df[new_condition]\n",
    "\n",
    "print(contact_after_9)"
   ]
  },
  {
   "cell_type": "code",
   "execution_count": 10,
   "metadata": {},
   "outputs": [
    {
     "name": "stdout",
     "output_type": "stream",
     "text": [
      "  ChildId  Age first contact Gender   Birthday  Age CP Plan?\n",
      "0     id1                  6      M 2002-01-01    5        Y\n",
      "4     id5                 19      F 2012-01-06    2      yES\n"
     ]
    }
   ],
   "source": [
    "error_rows = df[df['Age first contact'] > df['Age']]\n",
    "print(error_rows)"
   ]
  },
  {
   "cell_type": "code",
   "execution_count": null,
   "metadata": {},
   "outputs": [],
   "source": [
    "> # greater than\n",
    "< # less than\n",
    "== # equals \n",
    "& # and\n",
    "~ # not\n",
    ">=/<= # greater equals/less equals\n"
   ]
  },
  {
   "cell_type": "code",
   "execution_count": 11,
   "metadata": {},
   "outputs": [
    {
     "name": "stdout",
     "output_type": "stream",
     "text": [
      "False\n",
      "True\n",
      "True\n",
      "True\n"
     ]
    }
   ],
   "source": [
    "print(((1 > 2) & (2 == 2))) # false, because 1 is not greater than 2 and both need to be true\n",
    "print(((1 > 2) | (2 == 2))) # True because at least one of the components is true,\n",
    "                            # even though 1 is not greater than 2\n",
    "print(((3 > 2) | (2 == 2))) # Still true, as at least one is true\n",
    "print(((3 > 2) & (2 == 2))) # Only strue because both are true\n",
    "\n",
    "# In this cell, writet a logical test that fails an and condition,\n",
    "# but passes an or condition, and print both\n",
    "\n",
    "#isna/notna\n",
    "# .str.contains\n",
    "# isin\n",
    "\n",
    "na_condition = df['Birthday'].notna()\n",
    "\n",
    "print(df[na_condition])"
   ]
  },
  {
   "cell_type": "code",
   "execution_count": 12,
   "metadata": {},
   "outputs": [
    {
     "name": "stdout",
     "output_type": "stream",
     "text": [
      "  ChildId  Age first contact Gender   Birthday  Age CP Plan?\n",
      "0     id1                  6      M 2002-01-01    5        Y\n",
      "1     id2                 12      m 2003-02-02   12        n\n",
      "3     id4                  1        2023-03-03    6       No\n",
      "4     id5                 19      F 2012-01-06    2      yES\n"
     ]
    }
   ],
   "source": [
    "na_condition = df['Birthday'].notna()\n",
    "\n",
    "print(df[na_condition])"
   ]
  },
  {
   "cell_type": "code",
   "execution_count": 13,
   "metadata": {},
   "outputs": [
    {
     "name": "stdout",
     "output_type": "stream",
     "text": [
      "  ChildId  Age first contact Gender Birthday  Age CP Plan?\n",
      "2     id3                 11      F      NaT   11        N\n",
      "  ChildId  Age first contact Gender   Birthday  Age CP Plan?\n",
      "1     id2                 12      m 2003-02-02   12        n\n",
      "  ChildId  Age first contact Gender   Birthday  Age CP Plan?\n",
      "0     id1                  6      M 2002-01-01    5        Y\n",
      "4     id5                 19      F 2012-01-06    2      yES\n"
     ]
    }
   ],
   "source": [
    "isna_condition = (df['Birthday'].isna()) & (df['Age'] > 9)\n",
    "print(df[isna_condition])\n",
    "\n",
    "notna_condition = (df['Birthday'].notna()) & (df['Age'] > 9)\n",
    "print(df[notna_condition])\n",
    "\n",
    "str_condition = df['CP Plan?'].str.lower().str.contains('y', 'n')\n",
    "print(df[str_condition])"
   ]
  },
  {
   "cell_type": "code",
   "execution_count": 16,
   "metadata": {},
   "outputs": [
    {
     "name": "stdout",
     "output_type": "stream",
     "text": [
      "  ChildId  Age first contact Gender   Birthday  Age CP Plan?\n",
      "1     id2                 12      m 2003-02-02   12        n\n"
     ]
    }
   ],
   "source": [
    "condition = df['CP Plan?'].str.lower().str.contains('n') & (df['Gender'].str.lower() == 'm')\n",
    "\n",
    "print(df[condition])"
   ]
  },
  {
   "cell_type": "code",
   "execution_count": 18,
   "metadata": {},
   "outputs": [
    {
     "name": "stdout",
     "output_type": "stream",
     "text": [
      "Empty DataFrame\n",
      "Columns: [ChildId, Age first contact, Gender, Birthday, Age, CP Plan?]\n",
      "Index: []\n"
     ]
    }
   ],
   "source": [
    "#slice the df where the age is 6 or 9 (either with two ==s phrases in one bracker OR a single .isin()),\n",
    "#and CP plan? is 'Y'\n",
    "\n",
    "\n",
    "condition = df['Age'].isin([6,9]) & (df['CP Plan?'] == 'Y')\n",
    "\n",
    "print(df[condition])"
   ]
  },
  {
   "cell_type": "code",
   "execution_count": 20,
   "metadata": {},
   "outputs": [
    {
     "name": "stdout",
     "output_type": "stream",
     "text": [
      "[1, 2, 3, 4, 5, 6, 7, 8, 9, 10]\n",
      "The number was 1\n"
     ]
    }
   ],
   "source": [
    "numbers  = list(range(1,11))\n",
    "print(numbers)\n",
    "\n",
    "for i in numbers:\n",
    "    if i == 1:\n",
    "        print('The number was 1')\n"
   ]
  },
  {
   "cell_type": "code",
   "execution_count": 21,
   "metadata": {},
   "outputs": [
    {
     "name": "stdout",
     "output_type": "stream",
     "text": [
      "The number was odd, and not 9\n",
      "The number is even\n",
      "The number was odd, and not 9\n",
      "The number is even\n",
      "The number was odd, and not 9\n",
      "The number is even\n",
      "The number was odd, and not 9\n",
      "The number is even\n",
      "The number was 9 \n",
      "The number is even\n"
     ]
    }
   ],
   "source": [
    "numbers  = list(range(1,11))\n",
    "\n",
    "for i in numbers:\n",
    "    if i % 2 == 0:\n",
    "        print('The number is even')\n",
    "    elif i == 9:\n",
    "        print('The number was 9 ')\n",
    "    else:\n",
    "        print('The number was odd, and not 9')        "
   ]
  },
  {
   "cell_type": "code",
   "execution_count": 24,
   "metadata": {},
   "outputs": [
    {
     "name": "stdout",
     "output_type": "stream",
     "text": [
      "1\n",
      "2\n",
      "fizz\n",
      "4\n",
      "bang\n",
      "fizz\n",
      "7\n",
      "8\n",
      "fizz\n",
      "bang\n",
      "11\n",
      "fizz\n",
      "13\n",
      "14\n",
      "fizzbang\n",
      "16\n",
      "17\n",
      "fizz\n",
      "19\n",
      "bang\n",
      "fizz\n",
      "22\n",
      "23\n",
      "fizz\n",
      "bang\n",
      "26\n",
      "fizz\n",
      "28\n",
      "29\n",
      "fizzbang\n",
      "31\n",
      "32\n",
      "fizz\n",
      "34\n",
      "bang\n",
      "fizz\n",
      "37\n",
      "38\n",
      "fizz\n",
      "bang\n",
      "41\n",
      "fizz\n",
      "43\n",
      "44\n",
      "fizzbang\n",
      "46\n",
      "47\n",
      "fizz\n",
      "49\n",
      "bang\n",
      "fizz\n",
      "52\n",
      "53\n",
      "fizz\n",
      "bang\n",
      "56\n",
      "fizz\n",
      "58\n",
      "59\n",
      "fizzbang\n",
      "61\n",
      "62\n",
      "fizz\n",
      "64\n",
      "bang\n",
      "fizz\n",
      "67\n",
      "68\n",
      "fizz\n",
      "bang\n",
      "71\n",
      "fizz\n",
      "73\n",
      "74\n",
      "fizzbang\n",
      "76\n",
      "77\n",
      "fizz\n",
      "79\n",
      "bang\n",
      "fizz\n",
      "82\n",
      "83\n",
      "fizz\n",
      "bang\n",
      "86\n",
      "fizz\n",
      "88\n",
      "89\n",
      "fizzbang\n",
      "91\n",
      "92\n",
      "fizz\n",
      "94\n",
      "bang\n",
      "fizz\n",
      "97\n",
      "98\n",
      "fizz\n",
      "bang\n"
     ]
    }
   ],
   "source": [
    "numbers_new  = list(range(1,101))\n",
    "\n",
    "for i in numbers_new:\n",
    "    if (i % 3 == 0) & (i % 5 == 0):\n",
    "        print('fizzbang')\n",
    "    elif i % 3 == 0:\n",
    "        print('fizz')\n",
    "    elif i % 5 == 0:\n",
    "        print('bang')\n",
    "    else:\n",
    "        print(i)       "
   ]
  }
 ],
 "metadata": {
  "kernelspec": {
   "display_name": "Python 3",
   "language": "python",
   "name": "python3"
  },
  "language_info": {
   "codemirror_mode": {
    "name": "ipython",
    "version": 3
   },
   "file_extension": ".py",
   "mimetype": "text/x-python",
   "name": "python",
   "nbconvert_exporter": "python",
   "pygments_lexer": "ipython3",
   "version": "3.10.13"
  }
 },
 "nbformat": 4,
 "nbformat_minor": 2
}
