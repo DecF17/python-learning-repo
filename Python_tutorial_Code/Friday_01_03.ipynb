{
 "cells": [
  {
   "cell_type": "code",
   "execution_count": 11,
   "metadata": {},
   "outputs": [
    {
     "name": "stdout",
     "output_type": "stream",
     "text": [
      "  ChildId  Age first contact Gender Birthday CP Plan?  Age March 31  Age\n",
      "0     id1                  6      M      NaT        Y           NaN  NaN\n",
      "1     id2                 12      m      NaT        n           NaN  NaN\n",
      "2     id3                 11      F      NaT        N           NaN  NaN\n",
      "3     id4                  1             NaT       No           NaN  NaN\n",
      "4     id5                 19      F      NaT      yES           NaN  NaN\n"
     ]
    }
   ],
   "source": [
    "import pandas as pd\n",
    "\n",
    "df = pd.DataFrame({'ChildId':['id1', 'id2', 'id3', 'id4', 'id5'],\n",
    "                   'Age first contact':[6,12,11,1,19],\n",
    "                   'Gender':['M','m', 'F', '', 'F' ],\n",
    "                   'Birthday':['01/01/2002', '02/02/2003', pd.NA, '03/03/2023', '06/01/2012'],\n",
    "                   'CP Plan?':['Y', 'n', 'N', 'No', 'yES'],})\n",
    "\n",
    "\n",
    "df['Birthday'] = pd.to_datetime(df['Birthday'], format='%d%m%Y', errors='coerce')\n",
    "\n",
    "df['Age March 31'] = pd.to_datetime('31/03/2024', dayfirst=True) - df['Birthday']\n",
    "df['Age March 31'] = df['Age March 31'] / pd.Timedelta('365 days')\n",
    "df['Age March 31'] = df['Age March 31'].round().astype('int', errors= 'ignore')\n",
    "\n",
    "df['Age'] = pd.to_datetime('today').normalize() - df['Birthday']\n",
    "df['Age'] = df['Age'] / pd.Timedelta('365 days')\n",
    "df['Age'] = df['Age'].round().astype('int', errors='ignore')\n",
    "\n",
    "print (df)"
   ]
  },
  {
   "cell_type": "code",
   "execution_count": 8,
   "metadata": {},
   "outputs": [
    {
     "name": "stdout",
     "output_type": "stream",
     "text": [
      "  ChildId  Age first contact Gender Birthday CP Plan?  Age March 31  Age\n",
      "0     id1                  6      M      NaT        Y           NaN  NaN\n",
      "1     id2                 12      m      NaT        n           NaN  NaN\n",
      "2     id3                 11      F      NaT        N           NaN  NaN\n",
      "3     id4                  1             NaT       No           NaN  NaN\n",
      "4     id5                 19      F      NaT      yES           NaN  NaN\n"
     ]
    }
   ],
   "source": [
    "df['Age'] = pd.to_datetime('today').normalize() - df['Birthday']\n",
    "df['Age'] = df['Age'] / pd.Timedelta('365 days')\n",
    "df['Age'] = df['Age'].round().astype('int', errors='ignore')\n",
    "\n",
    "print(df)\n"
   ]
  },
  {
   "cell_type": "code",
   "execution_count": 9,
   "metadata": {},
   "outputs": [
    {
     "data": {
      "text/html": [
       "<div>\n",
       "<style scoped>\n",
       "    .dataframe tbody tr th:only-of-type {\n",
       "        vertical-align: middle;\n",
       "    }\n",
       "\n",
       "    .dataframe tbody tr th {\n",
       "        vertical-align: top;\n",
       "    }\n",
       "\n",
       "    .dataframe thead th {\n",
       "        text-align: right;\n",
       "    }\n",
       "</style>\n",
       "<table border=\"1\" class=\"dataframe\">\n",
       "  <thead>\n",
       "    <tr style=\"text-align: right;\">\n",
       "      <th></th>\n",
       "      <th>ChildId</th>\n",
       "      <th>Age first contact</th>\n",
       "      <th>Gender</th>\n",
       "      <th>Birthday</th>\n",
       "      <th>CP Plan?</th>\n",
       "      <th>Age March 31</th>\n",
       "      <th>Age</th>\n",
       "    </tr>\n",
       "  </thead>\n",
       "  <tbody>\n",
       "    <tr>\n",
       "      <th>0</th>\n",
       "      <td>id1</td>\n",
       "      <td>6</td>\n",
       "      <td>M</td>\n",
       "      <td>NaT</td>\n",
       "      <td>y</td>\n",
       "      <td>NaN</td>\n",
       "      <td>NaN</td>\n",
       "    </tr>\n",
       "    <tr>\n",
       "      <th>1</th>\n",
       "      <td>id2</td>\n",
       "      <td>12</td>\n",
       "      <td>m</td>\n",
       "      <td>NaT</td>\n",
       "      <td>n</td>\n",
       "      <td>NaN</td>\n",
       "      <td>NaN</td>\n",
       "    </tr>\n",
       "    <tr>\n",
       "      <th>2</th>\n",
       "      <td>id3</td>\n",
       "      <td>11</td>\n",
       "      <td>F</td>\n",
       "      <td>NaT</td>\n",
       "      <td>n</td>\n",
       "      <td>NaN</td>\n",
       "      <td>NaN</td>\n",
       "    </tr>\n",
       "    <tr>\n",
       "      <th>3</th>\n",
       "      <td>id4</td>\n",
       "      <td>1</td>\n",
       "      <td></td>\n",
       "      <td>NaT</td>\n",
       "      <td>n</td>\n",
       "      <td>NaN</td>\n",
       "      <td>NaN</td>\n",
       "    </tr>\n",
       "    <tr>\n",
       "      <th>4</th>\n",
       "      <td>id5</td>\n",
       "      <td>19</td>\n",
       "      <td>F</td>\n",
       "      <td>NaT</td>\n",
       "      <td>y</td>\n",
       "      <td>NaN</td>\n",
       "      <td>NaN</td>\n",
       "    </tr>\n",
       "  </tbody>\n",
       "</table>\n",
       "</div>"
      ],
      "text/plain": [
       "  ChildId  Age first contact Gender Birthday CP Plan?  Age March 31  Age\n",
       "0     id1                  6      M      NaT        y           NaN  NaN\n",
       "1     id2                 12      m      NaT        n           NaN  NaN\n",
       "2     id3                 11      F      NaT        n           NaN  NaN\n",
       "3     id4                  1             NaT        n           NaN  NaN\n",
       "4     id5                 19      F      NaT        y           NaN  NaN"
      ]
     },
     "execution_count": 9,
     "metadata": {},
     "output_type": "execute_result"
    }
   ],
   "source": [
    "cp_cleaner = lambda row: 'y' if 'y' in row else 'n' if 'n' in row else pd.NA\n",
    "\n",
    "df['CP Plan?'] = df['CP Plan?'].str.lower().apply(cp_cleaner)\n",
    "\n",
    "df"
   ]
  }
 ],
 "metadata": {
  "kernelspec": {
   "display_name": "Python 3",
   "language": "python",
   "name": "python3"
  },
  "language_info": {
   "codemirror_mode": {
    "name": "ipython",
    "version": 3
   },
   "file_extension": ".py",
   "mimetype": "text/x-python",
   "name": "python",
   "nbconvert_exporter": "python",
   "pygments_lexer": "ipython3",
   "version": "3.10.13"
  }
 },
 "nbformat": 4,
 "nbformat_minor": 2
}
