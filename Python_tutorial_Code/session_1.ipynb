{
 "cells": [
  {
   "cell_type": "code",
   "execution_count": 6,
   "metadata": {},
   "outputs": [
    {
     "name": "stdout",
     "output_type": "stream",
     "text": [
      "8\n"
     ]
    }
   ],
   "source": [
    "x = 4\n",
    "y = 4\n",
    "z = x + y\n",
    "print(z)\n"
   ]
  },
  {
   "cell_type": "markdown",
   "metadata": {},
   "source": [
    "In Python, lots of things are done using variables. We can store data in variables in many ways, including individual items of data, lists of data, dictionaries, and dataframes. We can also store more complicated things like classes and operations, we won't worry about the complex things now though. Let's first of all look at how variables can store individual items of data, and some of the quirks of that."
   ]
  },
  {
   "cell_type": "code",
   "execution_count": null,
   "metadata": {},
   "outputs": [],
   "source": []
  },
  {
   "cell_type": "code",
   "execution_count": 7,
   "metadata": {},
   "outputs": [
    {
     "name": "stdout",
     "output_type": "stream",
     "text": [
      "5\n"
     ]
    }
   ],
   "source": [
    "i = 1\n",
    "j = 4\n",
    "print(i + j)"
   ]
  },
  {
   "cell_type": "code",
   "execution_count": 3,
   "metadata": {},
   "outputs": [
    {
     "name": "stdout",
     "output_type": "stream",
     "text": [
      "3\n"
     ]
    }
   ],
   "source": [
    "x = 1\n",
    "y = 2\n",
    "\n",
    "\n",
    "z = x + y\n",
    "print(z)"
   ]
  },
  {
   "cell_type": "code",
   "execution_count": 4,
   "metadata": {},
   "outputs": [
    {
     "name": "stdout",
     "output_type": "stream",
     "text": [
      "1\n"
     ]
    }
   ],
   "source": [
    "print(x)"
   ]
  },
  {
   "cell_type": "code",
   "execution_count": 7,
   "metadata": {},
   "outputs": [
    {
     "name": "stdout",
     "output_type": "stream",
     "text": [
      "50\n"
     ]
    }
   ],
   "source": [
    "x = 5\n",
    "y = 10\n",
    "\n",
    "num1 = x * y\n",
    "print(num1)"
   ]
  },
  {
   "cell_type": "code",
   "execution_count": 8,
   "metadata": {},
   "outputs": [
    {
     "name": "stdout",
     "output_type": "stream",
     "text": [
      "12.56\n"
     ]
    }
   ],
   "source": [
    "radius = 2\n",
    "pi = 3.14\n",
    "\n",
    "radius_sq = radius ** 2\n",
    "circle_area = radius_sq * pi\n",
    "print(circle_area)"
   ]
  },
  {
   "cell_type": "code",
   "execution_count": 10,
   "metadata": {},
   "outputs": [
    {
     "name": "stdout",
     "output_type": "stream",
     "text": [
      "My name is Declan, and my job title is an Information Analyst.\n"
     ]
    }
   ],
   "source": [
    "name = \"Declan\"\n",
    "job = \"Information Analyst\"\n",
    "\n",
    "phrase = f\"My name is {name}, and my job title is an {job}.\"\n",
    "print(phrase)"
   ]
  },
  {
   "cell_type": "code",
   "execution_count": 19,
   "metadata": {},
   "outputs": [
    {
     "name": "stdout",
     "output_type": "stream",
     "text": [
      "dog \n",
      "cat\n",
      "racoon\n"
     ]
    }
   ],
   "source": [
    "slice_this_phrase = \"dog cat racoon\"\n",
    "\n",
    "animal_1 = slice_this_phrase[:4]\n",
    "print(animal_1)\n",
    "\n",
    "animal_2 = slice_this_phrase[4:7]\n",
    "print(animal_2)\n",
    "\n",
    "animal_3 = slice_this_phrase[-6:]\n",
    "print(animal_3)"
   ]
  },
  {
   "cell_type": "code",
   "execution_count": 2,
   "metadata": {},
   "outputs": [
    {
     "ename": "NameError",
     "evalue": "name 'burgers' is not defined",
     "output_type": "error",
     "traceback": [
      "\u001b[0;31m---------------------------------------------------------------------------\u001b[0m",
      "\u001b[0;31mNameError\u001b[0m                                 Traceback (most recent call last)",
      "Cell \u001b[0;32mIn[2], line 2\u001b[0m\n\u001b[1;32m      1\u001b[0m food_dict \u001b[38;5;241m=\u001b[39m {\u001b[38;5;124m'\u001b[39m\u001b[38;5;124mKFC\u001b[39m\u001b[38;5;124m'\u001b[39m:\u001b[38;5;124m'\u001b[39m\u001b[38;5;124mChicken\u001b[39m\u001b[38;5;124m'\u001b[39m,\n\u001b[0;32m----> 2\u001b[0m              \u001b[38;5;124m'\u001b[39m\u001b[38;5;124mMcDonalds\u001b[39m\u001b[38;5;124m'\u001b[39m:[\u001b[43mburgers\u001b[49m, chips],\n\u001b[1;32m      3\u001b[0m              \u001b[38;5;124m'\u001b[39m\u001b[38;5;124mBurger king\u001b[39m\u001b[38;5;124m'\u001b[39m:burgers}\n\u001b[1;32m      6\u001b[0m \u001b[38;5;28mprint\u001b[39m(food_dict)\n",
      "\u001b[0;31mNameError\u001b[0m: name 'burgers' is not defined"
     ]
    }
   ],
   "source": [
    "food_dict = {'KFC':'Chicken',\n",
    "             'McDonalds':[burgers, chips],\n",
    "             'Burger king':burgers}\n",
    "\n",
    "\n",
    "print(food_dict)"
   ]
  },
  {
   "cell_type": "code",
   "execution_count": 6,
   "metadata": {},
   "outputs": [
    {
     "name": "stdout",
     "output_type": "stream",
     "text": [
      "Burger\n",
      "{'McDonalds': 'Burger', 'KFC': ['Chicken wing', 'Chicken burger', 'Mash with gravy'], 'Local Hotel': {'Weekdays': 'Gastro pub food', 'Weekends': 'High tea'}, 'Kebab shop': 'Kebabs'}\n"
     ]
    }
   ],
   "source": [
    "restaurants = {'McDonalds': 'Burger',\n",
    "               'KFC':['Chicken wing', 'Chicken burger', 'Mash with gravy'],\n",
    "               'Local Hotel':{'Weekdays':'Gastro pub food',\n",
    "                              'Weekends':'High tea'}}\n",
    "\n",
    "mcdo_food = restaurants['McDonalds']\n",
    "print(mcdo_food)\n",
    "restaurants['Kebab shop'] = 'Kebabs'\n",
    "\n",
    "print (restaurants)\n",
    "\n"
   ]
  },
  {
   "cell_type": "code",
   "execution_count": 7,
   "metadata": {},
   "outputs": [
    {
     "name": "stdout",
     "output_type": "stream",
     "text": [
      "dict_keys(['McDonalds', 'KFC', 'Local Hotel', 'Kebab shop'])\n",
      "dict_values(['Burger', ['Chicken wing', 'Chicken burger', 'Mash with gravy'], {'Weekdays': 'Gastro pub food', 'Weekends': 'High tea'}, 'Kebabs'])\n",
      "dict_items([('McDonalds', 'Burger'), ('KFC', ['Chicken wing', 'Chicken burger', 'Mash with gravy']), ('Local Hotel', {'Weekdays': 'Gastro pub food', 'Weekends': 'High tea'}), ('Kebab shop', 'Kebabs')])\n",
      "True\n"
     ]
    }
   ],
   "source": [
    "print(restaurants.keys())\n",
    "print(restaurants.values())\n",
    "\n",
    "print(restaurants.items())\n",
    "\n",
    "print('McDonalds' in restaurants)\n",
    "\n"
   ]
  },
  {
   "cell_type": "code",
   "execution_count": 8,
   "metadata": {},
   "outputs": [],
   "source": [
    "import pandas as pd\n",
    "\n",
    "filepath = 'https://raw.githubusercontent.com/data-to-insight/csc-validator-be-903/main/tests/fake_data/header.csv'\n",
    "\n",
    "header_fake = pd.read_csv(filepath)\n",
    "# read an excel file pd.read_excel(<filepath>)"
   ]
  },
  {
   "cell_type": "code",
   "execution_count": 15,
   "metadata": {},
   "outputs": [
    {
     "name": "stdout",
     "output_type": "stream",
     "text": [
      "   col1 col2 col3\n",
      "0     1    A  foo\n",
      "1     2    B  bar\n",
      "2     3    C  baz\n",
      "   column1 column2 column3\n",
      "0        1       A     foo\n",
      "1        2       B     bar\n",
      "2        3       C     baz\n",
      "     Name Salary            Job Title\n",
      "0  Declan     30  Information Analyst\n",
      "1   James     20  Information Analyst\n",
      "2    Paul     10  Information Analyst\n"
     ]
    }
   ],
   "source": [
    "# dict of lists \n",
    "d_1 = {'col1':[1, 2, 3],\n",
    "       'col2':['A', 'B', 'C'],\n",
    "       'col3':['foo', 'bar', 'baz']}\n",
    "\n",
    "\n",
    "df_1 = pd.DataFrame(d_1)\n",
    "print(df_1)\n",
    "\n",
    "#list of dicts \n",
    "df_2 = pd.DataFrame([\n",
    "    {'column1':1,\n",
    "     'column2': 'A',\n",
    "     'column3':'foo'},\n",
    "     {'column1':2,\n",
    "      'column2':'B',\n",
    "      'column3':'bar'},\n",
    "      {'column1':3,\n",
    "       'column2':'C',\n",
    "       'column3':'baz'}\n",
    "    ])\n",
    "\n",
    "\n",
    "print(df_2)\n",
    "\n",
    "\n",
    "staff = pd.DataFrame([\n",
    "{'Name':'Declan',\n",
    " 'Salary':'30',\n",
    " 'Job Title':'Information Analyst'},\n",
    " {'Name':'James',\n",
    " 'Salary':'20',\n",
    " 'Job Title':'Information Analyst'},\n",
    " {'Name':'Paul',\n",
    " 'Salary':'10',\n",
    " 'Job Title':'Information Analyst'},\n",
    "\n",
    " ])\n",
    "\n",
    "print(staff)"
   ]
  },
  {
   "cell_type": "code",
   "execution_count": 16,
   "metadata": {},
   "outputs": [
    {
     "name": "stdout",
     "output_type": "stream",
     "text": [
      "     Name Salary            Job Title\n",
      "0  Declan     30  Information Analyst\n",
      "1   James     20  Information Analyst\n",
      "2    Paul     10  Information Analyst\n"
     ]
    }
   ],
   "source": [
    "staff = pd.DataFrame([\n",
    "{'Name':'Declan',\n",
    " 'Salary':'30',\n",
    " 'Job Title':'Information Analyst'},\n",
    " {'Name':'James',\n",
    " 'Salary':'20',\n",
    " 'Job Title':'Information Analyst'},\n",
    " {'Name':'Paul',\n",
    " 'Salary':'10',\n",
    " 'Job Title':'Information Analyst'},\n",
    "\n",
    " ])\n",
    "\n",
    "print(staff)"
   ]
  },
  {
   "cell_type": "code",
   "execution_count": 17,
   "metadata": {},
   "outputs": [
    {
     "name": "stdout",
     "output_type": "stream",
     "text": [
      "<class 'pandas.core.frame.DataFrame'>\n",
      "RangeIndex: 3 entries, 0 to 2\n",
      "Data columns (total 3 columns):\n",
      " #   Column     Non-Null Count  Dtype \n",
      "---  ------     --------------  ----- \n",
      " 0   Name       3 non-null      object\n",
      " 1   Salary     3 non-null      object\n",
      " 2   Job Title  3 non-null      object\n",
      "dtypes: object(3)\n",
      "memory usage: 200.0+ bytes\n",
      "None\n",
      "     Name Salary            Job Title\n",
      "0  Declan     30  Information Analyst\n",
      "0    30\n",
      "1    20\n",
      "2    10\n",
      "Name: Salary, dtype: object\n",
      "     Name            Job Title\n",
      "0  Declan  Information Analyst\n",
      "1   James  Information Analyst\n",
      "2    Paul  Information Analyst\n"
     ]
    }
   ],
   "source": [
    "print(staff.info())\n",
    "\n",
    "print(staff.head(1))\n",
    "\n",
    "print(staff['Salary'])\n",
    "\n",
    "print(staff[['Name', 'Job Title']])"
   ]
  },
  {
   "cell_type": "code",
   "execution_count": 18,
   "metadata": {},
   "outputs": [
    {
     "name": "stdout",
     "output_type": "stream",
     "text": [
      "int64\n",
      "The mean salary is: 20.0.\n",
      "The total of salaries is: 60\n",
      "The max and min salaries respectively are 30, 10.\n"
     ]
    }
   ],
   "source": [
    "staff['Salary'] = staff['Salary'].astype('int')\n",
    "print(staff['Salary'].dtypes)\n",
    "\n",
    "mean_salary = staff['Salary'].mean()\n",
    "sum_salary = staff['Salary'].sum()\n",
    "max_salary = staff['Salary'].max()\n",
    "min_salary = staff['Salary'].min()\n",
    "\n",
    "print(f'The mean salary is: {mean_salary}.')\n",
    "print(f\"The total of salaries is: {sum_salary}\")\n",
    "print(f'The max and min salaries respectively are {max_salary}, {min_salary}.')\n"
   ]
  }
 ],
 "metadata": {
  "kernelspec": {
   "display_name": "Python 3",
   "language": "python",
   "name": "python3"
  },
  "language_info": {
   "codemirror_mode": {
    "name": "ipython",
    "version": 3
   },
   "file_extension": ".py",
   "mimetype": "text/x-python",
   "name": "python",
   "nbconvert_exporter": "python",
   "pygments_lexer": "ipython3",
   "version": "3.10.13"
  }
 },
 "nbformat": 4,
 "nbformat_minor": 2
}
