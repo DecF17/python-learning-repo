{
 "cells": [
  {
   "cell_type": "code",
   "execution_count": 3,
   "metadata": {},
   "outputs": [
    {
     "name": "stdout",
     "output_type": "stream",
     "text": [
      "1\n",
      "2\n",
      "3\n",
      "4\n",
      "5\n",
      "6\n",
      "7\n",
      "8\n",
      "9\n",
      "10\n"
     ]
    }
   ],
   "source": [
    "\n",
    "import time\n",
    "\n",
    "numbers = list(range(1,11))\n",
    "\n",
    "for number in numbers:\n",
    "    print (number)\n",
    "    #time.sleep(1)"
   ]
  },
  {
   "cell_type": "code",
   "execution_count": 8,
   "metadata": {},
   "outputs": [
    {
     "name": "stdout",
     "output_type": "stream",
     "text": [
      "abcdefghijk\n",
      "abcdefghijk\n",
      "abcdefghijk\n",
      "abcdefghijk\n",
      "abcdefghijk\n",
      "abcdefghijk\n",
      "abcdefghijk\n",
      "abcdefghijk\n",
      "abcdefghijk\n",
      "abcdefghijk\n",
      "abcdefghijk\n"
     ]
    }
   ],
   "source": [
    "word = 'abcdefghijk'\n",
    "\n",
    "for character in word:\n",
    "    print(word)"
   ]
  },
  {
   "cell_type": "code",
   "execution_count": 12,
   "metadata": {},
   "outputs": [
    {
     "name": "stdout",
     "output_type": "stream",
     "text": [
      "1\n",
      "2\n",
      "3\n",
      "4\n",
      "5\n",
      "6\n",
      "7\n",
      "8\n",
      "9\n",
      "10\n",
      "2\n",
      "4\n",
      "6\n",
      "8\n",
      "10\n",
      "12\n",
      "14\n",
      "16\n",
      "18\n",
      "20\n",
      "3\n",
      "6\n",
      "9\n",
      "12\n",
      "15\n",
      "18\n",
      "21\n",
      "24\n",
      "27\n",
      "30\n",
      "4\n",
      "8\n",
      "12\n",
      "16\n",
      "20\n",
      "24\n",
      "28\n",
      "32\n",
      "36\n",
      "40\n",
      "5\n",
      "10\n",
      "15\n",
      "20\n",
      "25\n",
      "30\n",
      "35\n",
      "40\n",
      "45\n",
      "50\n",
      "6\n",
      "12\n",
      "18\n",
      "24\n",
      "30\n",
      "36\n",
      "42\n",
      "48\n",
      "54\n",
      "60\n",
      "7\n",
      "14\n",
      "21\n",
      "28\n",
      "35\n",
      "42\n",
      "49\n",
      "56\n",
      "63\n",
      "70\n",
      "8\n",
      "16\n",
      "24\n",
      "32\n",
      "40\n",
      "48\n",
      "56\n",
      "64\n",
      "72\n",
      "80\n",
      "9\n",
      "18\n",
      "27\n",
      "36\n",
      "45\n",
      "54\n",
      "63\n",
      "72\n",
      "81\n",
      "90\n",
      "10\n",
      "20\n",
      "30\n",
      "40\n",
      "50\n",
      "60\n",
      "70\n",
      "80\n",
      "90\n",
      "100\n"
     ]
    }
   ],
   "source": [
    "\n",
    "\n",
    "\n",
    "for number_a in numbers:\n",
    "    for number_b  in numbers:\n",
    "        x = number_a *number_b\n",
    "        print (x)\n",
    "    "
   ]
  },
  {
   "cell_type": "code",
   "execution_count": 15,
   "metadata": {},
   "outputs": [
    {
     "name": "stdout",
     "output_type": "stream",
     "text": [
      "['1a', '1b', '1c', '2a', '2b', '2c', '3a', '3b', '3c', '4a', '4b', '4c', '5a', '5b', '5c', '6a', '6b', '6c', '7a', '7b', '7c', '8a', '8b', '8c', '9a', '9b', '9c', '10a', '10b', '10c']\n"
     ]
    }
   ],
   "source": [
    "numbers1 = [1, 2, 3, 4, 5]\n",
    "letters = ['a', 'b', 'c'] \n",
    "\n",
    "letters_numbers= []\n",
    "\n",
    "for number in numbers:\n",
    "    for letter in letters:\n",
    "        letters_numbers.append(f'{number}{letter}')\n",
    "\n",
    "\n",
    "print(letters_numbers)        "
   ]
  },
  {
   "cell_type": "code",
   "execution_count": 17,
   "metadata": {},
   "outputs": [
    {
     "name": "stdout",
     "output_type": "stream",
     "text": [
      "['butter & ham']\n",
      "['butter & ham', 'butter & cheese']\n",
      "['butter & ham', 'butter & cheese', 'butter & sardines']\n",
      "['butter & ham', 'butter & cheese', 'butter & sardines', 'jam & ham']\n",
      "['butter & ham', 'butter & cheese', 'butter & sardines', 'jam & ham', 'jam & cheese']\n",
      "['butter & ham', 'butter & cheese', 'butter & sardines', 'jam & ham', 'jam & cheese', 'jam & sardines']\n",
      "['butter & ham', 'butter & cheese', 'butter & sardines', 'jam & ham', 'jam & cheese', 'jam & sardines', 'peanut butter & ham']\n",
      "['butter & ham', 'butter & cheese', 'butter & sardines', 'jam & ham', 'jam & cheese', 'jam & sardines', 'peanut butter & ham', 'peanut butter & cheese']\n",
      "['butter & ham', 'butter & cheese', 'butter & sardines', 'jam & ham', 'jam & cheese', 'jam & sardines', 'peanut butter & ham', 'peanut butter & cheese', 'peanut butter & sardines']\n"
     ]
    }
   ],
   "source": [
    "spreads = ['butter', 'jam', 'peanut butter']\n",
    "toppings = ['ham', 'cheese', 'sardines']\n",
    "\n",
    "sandwich_toppings= []\n",
    "\n",
    "for spread in spreads:\n",
    "    for topping in toppings:\n",
    "        sandwich_toppings.append(f'{spread} & {topping}')\n",
    "        print(sandwich_toppings)\n"
   ]
  },
  {
   "cell_type": "code",
   "execution_count": 18,
   "metadata": {},
   "outputs": [
    {
     "name": "stdout",
     "output_type": "stream",
     "text": [
      "1\n",
      "2\n",
      "3\n"
     ]
    }
   ],
   "source": [
    "dict_1 = {'key 1':1,\n",
    "          'key 2':2,\n",
    "          'key 3':3}\n",
    "\n",
    "\n",
    "#print(dict_1.keys())\n",
    "\n",
    "for value in dict_1.values():\n",
    "    print(value)\n",
    "\n"
   ]
  },
  {
   "cell_type": "code",
   "execution_count": 22,
   "metadata": {},
   "outputs": [
    {
     "name": "stdout",
     "output_type": "stream",
     "text": [
      "McDonalds, sells Burger\n",
      "KFC, sells ['Chicken wing', 'Chicken burger', 'Mash with gravy']\n",
      "Local Hotel, sells {'Weekdays': 'Gastro pub food', 'Weekends': 'High tea'}\n"
     ]
    }
   ],
   "source": [
    "restaurants_dict = {'McDonalds': 'Burger',\n",
    "               'KFC':['Chicken wing', 'Chicken burger', 'Mash with gravy'],\n",
    "               'Local Hotel':{'Weekdays':'Gastro pub food',\n",
    "                              'Weekends':'High tea'}}\n",
    "\n",
    "for restaurant, food in restaurants_dict.items():\n",
    "    print(f'{restaurant}, sells {food}')\n",
    "\n",
    "\n",
    "\n"
   ]
  }
 ],
 "metadata": {
  "kernelspec": {
   "display_name": "Python 3",
   "language": "python",
   "name": "python3"
  },
  "language_info": {
   "codemirror_mode": {
    "name": "ipython",
    "version": 3
   },
   "file_extension": ".py",
   "mimetype": "text/x-python",
   "name": "python",
   "nbconvert_exporter": "python",
   "pygments_lexer": "ipython3",
   "version": "3.10.13"
  }
 },
 "nbformat": 4,
 "nbformat_minor": 2
}
